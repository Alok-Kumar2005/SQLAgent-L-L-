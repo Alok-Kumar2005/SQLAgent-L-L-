{
 "cells": [
  {
   "cell_type": "code",
   "execution_count": 2,
   "id": "ab6b6d09",
   "metadata": {},
   "outputs": [
    {
     "data": {
      "text/plain": [
       "True"
      ]
     },
     "execution_count": 2,
     "metadata": {},
     "output_type": "execute_result"
    }
   ],
   "source": [
    "\n",
    "from langchain_community.vectorstores import FAISS\n",
    "import os\n",
    "from pyprojroot import here\n",
    "from langchain_openai import OpenAIEmbeddings  # We'll replace this\n",
    "from langchain_google_genai import GoogleGenerativeAIEmbeddings\n",
    "from langchain_google_genai import ChatGoogleGenerativeAI\n",
    "from dotenv import load_dotenv\n",
    "from pprint import pprint\n",
    "load_dotenv()"
   ]
  },
  {
   "cell_type": "code",
   "execution_count": 3,
   "id": "9a77f8c4",
   "metadata": {},
   "outputs": [],
   "source": [
    "os.environ['GOOGLE_API_KEY'] = os.getenv(\"GOOGLE_API_KEY\")\n",
    "\n",
    "# Use Google's embedding model\n",
    "EMBEDDING_MODEL = \"models/embedding-001\"  \n",
    "VECTORDB_DIR = \"data/airline_policy_vectordb_faiss\"\n",
    "K = 2"
   ]
  },
  {
   "cell_type": "code",
   "execution_count": 4,
   "id": "11063a3c",
   "metadata": {},
   "outputs": [],
   "source": [
    "embedding_function = GoogleGenerativeAIEmbeddings(model=EMBEDDING_MODEL)"
   ]
  },
  {
   "cell_type": "code",
   "execution_count": 5,
   "id": "a40b7641",
   "metadata": {},
   "outputs": [
    {
     "name": "stdout",
     "output_type": "stream",
     "text": [
      "No existing FAISS index found. Please create one first.\n"
     ]
    }
   ],
   "source": [
    "try:\n",
    "    vectordb = FAISS.load_local(\n",
    "        folder_path=str(here(VECTORDB_DIR)),\n",
    "        embeddings=embedding_function\n",
    "    )\n",
    "    print(\"Loaded existing FAISS index\")\n",
    "except:\n",
    "    print(\"No existing FAISS index found. Please create one first.\")"
   ]
  },
  {
   "cell_type": "code",
   "execution_count": 6,
   "id": "21bf8cee",
   "metadata": {},
   "outputs": [
    {
     "ename": "NameError",
     "evalue": "name 'vectordb' is not defined",
     "output_type": "error",
     "traceback": [
      "\u001b[31m---------------------------------------------------------------------------\u001b[39m",
      "\u001b[31mNameError\u001b[39m                                 Traceback (most recent call last)",
      "\u001b[36mCell\u001b[39m\u001b[36m \u001b[39m\u001b[32mIn[6]\u001b[39m\u001b[32m, line 1\u001b[39m\n\u001b[32m----> \u001b[39m\u001b[32m1\u001b[39m \u001b[38;5;28mprint\u001b[39m(\u001b[33m\"\u001b[39m\u001b[33mNumber of vectors in vectordb:\u001b[39m\u001b[33m\"\u001b[39m, \u001b[38;5;28mlen\u001b[39m(\u001b[43mvectordb\u001b[49m.index_to_docstore_id), \u001b[33m\"\u001b[39m\u001b[38;5;130;01m\\n\u001b[39;00m\u001b[38;5;130;01m\\n\u001b[39;00m\u001b[33m\"\u001b[39m)\n",
      "\u001b[31mNameError\u001b[39m: name 'vectordb' is not defined"
     ]
    }
   ],
   "source": [
    "print(\"Number of vectors in vectordb:\", len(vectordb.index_to_docstore_id), \"\\n\\n\")"
   ]
  },
  {
   "cell_type": "code",
   "execution_count": null,
   "id": "ff0a86aa",
   "metadata": {},
   "outputs": [],
   "source": []
  }
 ],
 "metadata": {
  "kernelspec": {
   "display_name": "CwS",
   "language": "python",
   "name": "python3"
  },
  "language_info": {
   "codemirror_mode": {
    "name": "ipython",
    "version": 3
   },
   "file_extension": ".py",
   "mimetype": "text/x-python",
   "name": "python",
   "nbconvert_exporter": "python",
   "pygments_lexer": "ipython3",
   "version": "3.12.9"
  }
 },
 "nbformat": 4,
 "nbformat_minor": 5
}
