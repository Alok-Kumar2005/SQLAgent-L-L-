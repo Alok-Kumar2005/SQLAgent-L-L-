{
 "cells": [
  {
   "cell_type": "code",
   "execution_count": 37,
   "id": "ab6b6d09",
   "metadata": {},
   "outputs": [
    {
     "data": {
      "text/plain": [
       "True"
      ]
     },
     "execution_count": 37,
     "metadata": {},
     "output_type": "execute_result"
    }
   ],
   "source": [
    "from langchain_community.vectorstores import FAISS\n",
    "import os\n",
    "from pyprojroot import here\n",
    "from langchain_google_genai import GoogleGenerativeAIEmbeddings\n",
    "from langchain_google_genai import ChatGoogleGenerativeAI\n",
    "from dotenv import load_dotenv\n",
    "from pprint import pprint\n",
    "load_dotenv()"
   ]
  },
  {
   "cell_type": "code",
   "execution_count": 38,
   "id": "9a77f8c4",
   "metadata": {},
   "outputs": [],
   "source": [
    "os.environ['GOOGLE_API_KEY'] = os.getenv(\"GOOGLE_API_KEY\")\n",
    "\n",
    "# Configure models and paths\n",
    "EMBEDDING_MODEL = \"models/embedding-001\"  # Google's text embedding model\n",
    "VECTORDB_DIR = \"data/airline_policy_vectordb\"  # Path to your existing FAISS database\n",
    "K = 2 "
   ]
  },
  {
   "cell_type": "code",
   "execution_count": 39,
   "id": "2d562191",
   "metadata": {},
   "outputs": [],
   "source": [
    "os.environ['GOOGLE_API_KEY'] = os.getenv(\"GOOGLE_API_KEY\")\n",
    "if not os.environ.get('GOOGLE_API_KEY'):\n",
    "    print(\"WARNING: GOOGLE_API_KEY environment variable is not set!\")\n"
   ]
  },
  {
   "cell_type": "code",
   "execution_count": 40,
   "id": "e9233cca",
   "metadata": {},
   "outputs": [],
   "source": [
    "embedding_function = GoogleGenerativeAIEmbeddings(model=EMBEDDING_MODEL)"
   ]
  },
  {
   "cell_type": "code",
   "execution_count": 41,
   "id": "ff0a86aa",
   "metadata": {},
   "outputs": [
    {
     "name": "stdout",
     "output_type": "stream",
     "text": [
      "Successfully loaded FAISS index\n",
      "Number of vectors in vectordb: 22\n"
     ]
    }
   ],
   "source": [
    "# instantiate your embedding function\n",
    "embedding_function = GoogleGenerativeAIEmbeddings(model=EMBEDDING_MODEL)\n",
    "\n",
    "try:\n",
    "    vectordb = FAISS.load_local(\n",
    "        folder_path=str(here(VECTORDB_DIR)),\n",
    "        embeddings=embedding_function,\n",
    "        allow_dangerous_deserialization=True  # <— tell FAISS it’s OK\n",
    "    )\n",
    "    print(\"Successfully loaded FAISS index\")\n",
    "    print(\"Number of vectors in vectordb:\", len(vectordb.index_to_docstore_id))\n",
    "except Exception as e:\n",
    "    print(f\"Error loading FAISS index: {e}\")\n",
    "    raise\n"
   ]
  },
  {
   "cell_type": "code",
   "execution_count": 42,
   "id": "3c6a4344",
   "metadata": {},
   "outputs": [
    {
     "data": {
      "text/plain": [
       "[Document(id='46e6832b-a83c-41c2-bf9f-45a1d9019b9e', metadata={'producer': 'PDFCreator Online (www.pdfforge.org/online)', 'creator': 'PDFCreator Online (www.pdfforge.org/online)', 'creationdate': '2024-09-08T21:34:59+00:00', 'title': 'Merged with PDFCreator Online', 'moddate': '2024-09-08T21:34:59+00:00', 'source': 'C:\\\\Users\\\\Lenovo\\\\LLM Project\\\\SQLAgent-L-L-\\\\data\\\\unstructured_docs\\\\swiss_airline_policy\\\\swiss_faq.pdf', 'total_pages': 12, 'page': 8, 'page_label': '9'}, page_content=\"How to Cancel a Swiss Air Flight: 877-\\n5O7-7341 Step-by-Step Guide\\nSwiss Air is a premium airline based in Switzerland that offers a range of domestic and international flights to\\npassengers. However, sometimes situations arise where passengers may need to cancel their flights. In such cases, it is\\nimportant to understand the Swiss Air Cancellation Policy to avoid any confusion or additional charges.\\nSwiss International Airlines Cancellation Policy In this article, we will provide you with everything you need to know about\\nthe Swiss Air Cancellation Policy, including how to cancel a Swiss Air flight, the fees associated with cancelling a flight,\\nand the refund policy.\\nIf you have booked a flight with Swiss Airlines but need to cancel it, it's important to understand their cancellation policy\\nto avoid any unnecessary fees or charges. Swiss Airlines offers different fare types, each with their own specific\\ncancellation terms and conditions. The most flexible fare types such as Flex and Business Flex allow you to cancel your\\nflight up to 24 hours before departure without any penalty. For other fare types, cancellation fees may apply. If you cancel\\nyour Swiss Airlines flight outside of the 24-hour window, cancellation fees will be charged depending on your fare type\\nand the time of cancellation. For example, if you cancel a non-flexible economy class ticket, a cancellation fee will be\\ncharged. The closer you cancel to the departure date, the higher the cancellation fee. In some cases, Swiss Airlines may\\nallow you to make changes to your flight instead of cancelling it outright. However, these changes may also come with\\nfees or penalties depending on your fare type and the type of change requested. If Swiss Airlines cancels your flight, you\\nmay be entitled to a full refund or rebooking on another flight. However, if the cancellation is due to extraordinary\\ncircumstances such as bad weather or political unrest, Swiss Airlines may not be obligated to offer any compensation. In\\nsummary, Swiss Airlines' cancellation policy varies depending on your fare type and the time of cancellation. To avoid any\\nunnecessary fees or charges, it's important to familiarise yourself with the terms and conditions of your ticket and to\\ncontact Swiss Airlines as soon as possible if you need to make changes or cancel your flight.\"),\n",
       " Document(id='309c2bdf-356e-4bc7-949b-c91abadce784', metadata={'producer': 'PDFCreator Online (www.pdfforge.org/online)', 'creator': 'PDFCreator Online (www.pdfforge.org/online)', 'creationdate': '2024-09-08T21:34:59+00:00', 'title': 'Merged with PDFCreator Online', 'moddate': '2024-09-08T21:34:59+00:00', 'source': 'C:\\\\Users\\\\Lenovo\\\\LLM Project\\\\SQLAgent-L-L-\\\\data\\\\unstructured_docs\\\\swiss_airline_policy\\\\swiss_faq.pdf', 'total_pages': 12, 'page': 10, 'page_label': '11'}, page_content=\"conditions of your ticket to make sure you're eligible for a refund.\\nSwiss Air Cancellation Fees The cancellation fees for Swiss Air flights may vary depending on the type of ticket you have\\npurchased. The airline offers three different types of tickets, which are:\\nFlex Ticket - This ticket offers the most flexibility and allows passengers to make changes or cancel their flight without\\nincurring any additional fees. Standard Ticket - This ticket offers some flexibility but charges a fee for changes and\\ncancellations. The fee for cancelling a standard ticket can range from 100 to 250 CHF, depending on the route and time\\nof cancellation. Economy Ticket - This ticket offers the least flexibility and charges a fee for any changes or cancellations.\\nThe fee for cancelling an economy ticket can range from 150 to 350 CHF, depending on the route and time of\\ncancellation. It is important to note that the fees listed above are subject to change and may vary depending on the\\nspecific ticket you have purchased. Additionally, if you have purchased any add-ons or upgrades, such as extra baggage\\nor seat selection, the fees associated with cancelling those may also apply.\\nSwiss Air Refund Policy If you cancel your Swiss Air flight, you may be eligible for a refund depending on the type of\\nticket you have purchased and the time of cancellation. Here are the details:\\nFlex Ticket - If you have purchased a Flex Ticket, you can cancel your flight without incurring any fees and receive a full\\nrefund. Standard Ticket - If you have purchased a Standard Ticket and cancel your flight within 24 hours of booking, you\\ncan receive a full refund. If you cancel your flight after 24 hours, you may be charged a cancellation fee and receive a\\npartial refund. Economy Ticket - If you have purchased an Economy Ticket and cancel your flight within 24 hours of\\nbooking, you can receive a full refund. If you cancel your flight after 24 hours, you may be charged a cancellation fee and\")]"
      ]
     },
     "execution_count": 42,
     "metadata": {},
     "output_type": "execute_result"
    }
   ],
   "source": [
    "message = \"What is the cancelation rule for a flight ticket at swiss airline policy?\"\n",
    "docs = vectordb.similarity_search(message, k=K)\n",
    "docs"
   ]
  },
  {
   "cell_type": "code",
   "execution_count": 43,
   "id": "3c620dee",
   "metadata": {},
   "outputs": [],
   "source": [
    "question = \"# User new question:\\n\" + message\n",
    "retrieved_content = \"\"\n",
    "for doc in docs:\n",
    "    retrieved_content += f\"{doc.page_content}\\n\\n\"\n",
    "prompt = f\"# Content:\\n{retrieved_content}\\n\\n{question}\""
   ]
  },
  {
   "cell_type": "code",
   "execution_count": 44,
   "id": "8304607d",
   "metadata": {},
   "outputs": [
    {
     "name": "stdout",
     "output_type": "stream",
     "text": [
      "('# Content:\\n'\n",
      " 'How to Cancel a Swiss Air Flight: 877-\\n'\n",
      " '5O7-7341 Step-by-Step Guide\\n'\n",
      " 'Swiss Air is a premium airline based in Switzerland that offers a range of '\n",
      " 'domestic and international flights to\\n'\n",
      " 'passengers. However, sometimes situations arise where passengers may need to '\n",
      " 'cancel their flights. In such cases, it is\\n'\n",
      " 'important to understand the Swiss Air Cancellation Policy to avoid any '\n",
      " 'confusion or additional charges.\\n'\n",
      " 'Swiss International Airlines Cancellation Policy In this article, we will '\n",
      " 'provide you with everything you need to know about\\n'\n",
      " 'the Swiss Air Cancellation Policy, including how to cancel a Swiss Air '\n",
      " 'flight, the fees associated with cancelling a flight,\\n'\n",
      " 'and the refund policy.\\n'\n",
      " \"If you have booked a flight with Swiss Airlines but need to cancel it, it's \"\n",
      " 'important to understand their cancellation policy\\n'\n",
      " 'to avoid any unnecessary fees or charges. Swiss Airlines offers different '\n",
      " 'fare types, each with their own specific\\n'\n",
      " 'cancellation terms and conditions. The most flexible fare types such as Flex '\n",
      " 'and Business Flex allow you to cancel your\\n'\n",
      " 'flight up to 24 hours before departure without any penalty. For other fare '\n",
      " 'types, cancellation fees may apply. If you cancel\\n'\n",
      " 'your Swiss Airlines flight outside of the 24-hour window, cancellation fees '\n",
      " 'will be charged depending on your fare type\\n'\n",
      " 'and the time of cancellation. For example, if you cancel a non-flexible '\n",
      " 'economy class ticket, a cancellation fee will be\\n'\n",
      " 'charged. The closer you cancel to the departure date, the higher the '\n",
      " 'cancellation fee. In some cases, Swiss Airlines may\\n'\n",
      " 'allow you to make changes to your flight instead of cancelling it outright. '\n",
      " 'However, these changes may also come with\\n'\n",
      " 'fees or penalties depending on your fare type and the type of change '\n",
      " 'requested. If Swiss Airlines cancels your flight, you\\n'\n",
      " 'may be entitled to a full refund or rebooking on another flight. However, if '\n",
      " 'the cancellation is due to extraordinary\\n'\n",
      " 'circumstances such as bad weather or political unrest, Swiss Airlines may '\n",
      " 'not be obligated to offer any compensation. In\\n'\n",
      " \"summary, Swiss Airlines' cancellation policy varies depending on your fare \"\n",
      " 'type and the time of cancellation. To avoid any\\n'\n",
      " \"unnecessary fees or charges, it's important to familiarise yourself with the \"\n",
      " 'terms and conditions of your ticket and to\\n'\n",
      " 'contact Swiss Airlines as soon as possible if you need to make changes or '\n",
      " 'cancel your flight.\\n'\n",
      " '\\n'\n",
      " \"conditions of your ticket to make sure you're eligible for a refund.\\n\"\n",
      " 'Swiss Air Cancellation Fees The cancellation fees for Swiss Air flights may '\n",
      " 'vary depending on the type of ticket you have\\n'\n",
      " 'purchased. The airline offers three different types of tickets, which are:\\n'\n",
      " 'Flex Ticket - This ticket offers the most flexibility and allows passengers '\n",
      " 'to make changes or cancel their flight without\\n'\n",
      " 'incurring any additional fees. Standard Ticket - This ticket offers some '\n",
      " 'flexibility but charges a fee for changes and\\n'\n",
      " 'cancellations. The fee for cancelling a standard ticket can range from 100 '\n",
      " 'to 250 CHF, depending on the route and time\\n'\n",
      " 'of cancellation. Economy Ticket - This ticket offers the least flexibility '\n",
      " 'and charges a fee for any changes or cancellations.\\n'\n",
      " 'The fee for cancelling an economy ticket can range from 150 to 350 CHF, '\n",
      " 'depending on the route and time of\\n'\n",
      " 'cancellation. It is important to note that the fees listed above are subject '\n",
      " 'to change and may vary depending on the\\n'\n",
      " 'specific ticket you have purchased. Additionally, if you have purchased any '\n",
      " 'add-ons or upgrades, such as extra baggage\\n'\n",
      " 'or seat selection, the fees associated with cancelling those may also '\n",
      " 'apply.\\n'\n",
      " 'Swiss Air Refund Policy If you cancel your Swiss Air flight, you may be '\n",
      " 'eligible for a refund depending on the type of\\n'\n",
      " 'ticket you have purchased and the time of cancellation. Here are the '\n",
      " 'details:\\n'\n",
      " 'Flex Ticket - If you have purchased a Flex Ticket, you can cancel your '\n",
      " 'flight without incurring any fees and receive a full\\n'\n",
      " 'refund. Standard Ticket - If you have purchased a Standard Ticket and cancel '\n",
      " 'your flight within 24 hours of booking, you\\n'\n",
      " 'can receive a full refund. If you cancel your flight after 24 hours, you may '\n",
      " 'be charged a cancellation fee and receive a\\n'\n",
      " 'partial refund. Economy Ticket - If you have purchased an Economy Ticket and '\n",
      " 'cancel your flight within 24 hours of\\n'\n",
      " 'booking, you can receive a full refund. If you cancel your flight after 24 '\n",
      " 'hours, you may be charged a cancellation fee and\\n'\n",
      " '\\n'\n",
      " '\\n'\n",
      " '\\n'\n",
      " '# User new question:\\n'\n",
      " 'What is the cancelation rule for a flight ticket at swiss airline policy?')\n"
     ]
    }
   ],
   "source": [
    "pprint(prompt)"
   ]
  },
  {
   "cell_type": "code",
   "execution_count": 45,
   "id": "9650347a",
   "metadata": {},
   "outputs": [],
   "source": [
    "llm = ChatGoogleGenerativeAI(\n",
    "    model=\"gemini-2.0-flash\",  \n",
    "    temperature=0\n",
    ")"
   ]
  },
  {
   "cell_type": "code",
   "execution_count": 46,
   "id": "094e9613",
   "metadata": {},
   "outputs": [
    {
     "name": "stdout",
     "output_type": "stream",
     "text": [
      "Swiss Airlines' cancellation policy varies depending on your fare type and the time of cancellation. The most flexible fare types such as Flex and Business Flex allow you to cancel your flight up to 24 hours before departure without any penalty. For other fare types, cancellation fees may apply. If you cancel your Swiss Airlines flight outside of the 24-hour window, cancellation fees will be charged depending on your fare type and the time of cancellation. For example, if you cancel a non-flexible economy class ticket, a cancellation fee will be charged. The closer you cancel to the departure date, the higher the cancellation fee.\n"
     ]
    }
   ],
   "source": [
    "response = llm.invoke([\n",
    "    (\"system\", \"You will receive a user's query and possible content where the answer might be. If the answer is found, provide it, if not, state that the answer does not exist.\"),\n",
    "    (\"human\", prompt)\n",
    "])\n",
    "\n",
    "print(response.content)"
   ]
  },
  {
   "cell_type": "code",
   "execution_count": 49,
   "id": "844f8835",
   "metadata": {},
   "outputs": [
    {
     "name": "stdout",
     "output_type": "stream",
     "text": [
      "lookup_swiss_airline_policy\n",
      "{'query': {'title': 'Query', 'type': 'string'}}\n",
      "Search within the Swiss Airline's company policies to check whether certain options are permitted. Input should be a search query.\n"
     ]
    }
   ],
   "source": [
    "from langchain_core.tools import tool\n",
    "\n",
    "@tool\n",
    "def lookup_swiss_airline_policy(query: str) -> str:\n",
    "    \"\"\"Search within the Swiss Airline's company policies to check whether certain options are permitted. Input should be a search query.\"\"\"\n",
    "    # Load the vector database\n",
    "    embedding_function = GoogleGenerativeAIEmbeddings(model=EMBEDDING_MODEL)\n",
    "    vectordb = FAISS.load_local(\n",
    "        folder_path=str(here(VECTORDB_DIR)),\n",
    "        embeddings=embedding_function,\n",
    "        allow_dangerous_deserialization=True\n",
    "    )\n",
    "    docs = vectordb.similarity_search(query, k=K)\n",
    "    return \"\\n\\n\".join([doc.page_content for doc in docs])\n",
    "\n",
    "# Test the tool\n",
    "print(lookup_swiss_airline_policy.name)\n",
    "print(lookup_swiss_airline_policy.args)\n",
    "print(lookup_swiss_airline_policy.description)"
   ]
  },
  {
   "cell_type": "code",
   "execution_count": 50,
   "id": "201d7fc9",
   "metadata": {},
   "outputs": [
    {
     "name": "stdout",
     "output_type": "stream",
     "text": [
      "('Tickets with a status other than O (open) (A)\\n'\n",
      " 'Bookings with segments with a status other than OK (e.g. containing flight '\n",
      " 'segments with the status\\n'\n",
      " 'Waitlist) (HK|RR)\\n'\n",
      " 'Tickets that do not display the tariff calculation (IT tickets)\\n'\n",
      " 'Bookings that contain special services (e.g. transportation of '\n",
      " 'animals/transportation of medical\\n'\n",
      " 'equipment/transportation of special sporting equipment etc.)\\n'\n",
      " 'Tickets that are part of a group booking\\n'\n",
      " 'Tickets on which the booking class (RBD) does not correspond to the tariff '\n",
      " 'code (FareBase)\\n'\n",
      " '3. Am I allowed to make changes to my online redemption booking?\\n'\n",
      " 'Redemption bookings can not yet be changed on swiss.com.\\n'\n",
      " '4. What changes can I make on my ticket?\\n'\n",
      " 'You can change the flight and the travel dates. Change of origin and '\n",
      " 'destination or name changes are not\\n'\n",
      " 'possible online.\\n'\n",
      " '5. After I have made changes to the itinerary online, can I make another '\n",
      " 'change?\\n'\n",
      " 'If the fare condition allows it, it is possible to make multiple changes to '\n",
      " 'the itinerary.\\n'\n",
      " '6. Can a name be changed after a booking is made?\\n'\n",
      " 'The correct name(s) of the customer travelling need to be entered in a '\n",
      " 'booking. The first and last name of\\n'\n",
      " 'the passenger travelling needs to be entered exactly as in the travel '\n",
      " 'documents. Entering a middle name\\n'\n",
      " 'is optional and can be added in the first name field. However, there is a '\n",
      " 'character limitation for this field.\\n'\n",
      " 'Your first and middle name is stored by the system spelled together without '\n",
      " 'spaces. This is not a mistake\\n'\n",
      " 'and does not affect your booking.\\n'\n",
      " 'Any subsequent name changes, including adding names to a ticket, are not '\n",
      " 'allowed.\\n'\n",
      " '7. Is it possible to apply the changes only to some of the passengers in the '\n",
      " 'same booking?\\n'\n",
      " 'The changes will always be applied to all passengers travelling together. '\n",
      " 'Changes to the passenger name\\n'\n",
      " 'or number of passengers is not possible online.\\n'\n",
      " '8. Until what time before departure can a flight be rebooked online?\\n'\n",
      " 'The minimum time before departure for online rebookings depends on your '\n",
      " 'departure airport. If you are\\n'\n",
      " 'departing from a Swiss airport, then you can rebook online up to three hours '\n",
      " 'before departure.\\n'\n",
      " '9. Will any differences in airport taxes be refunded online, if the new '\n",
      " 'flight choice is cheaper?\\n'\n",
      " 'No, online refunds are currently not possible.\\n'\n",
      " '\\n'\n",
      " 'How do I get a refund if I cancel my ticket? This depends on when you make '\n",
      " 'the cancellation.\\n'\n",
      " 'If the invoice has already been paid, you will receive the corresponding '\n",
      " 'refund by bank transfer. If SWISS is able to\\n'\n",
      " 'inform POWERPAY of the cancellation before the end of the payment period and '\n",
      " 'if the invoice has not been paid or has\\n'\n",
      " 'only been partially paid, POWERPAY will send you a new individual invoice '\n",
      " 'with the new amount and the new payment\\n'\n",
      " 'period if there is still an amount pending. If SWISS is only able to inform '\n",
      " 'POWERPAY once the end of the payment period\\n'\n",
      " 'has been reached, and if the invoice has not been paid or only partially '\n",
      " 'paid, the MF Group will send you a monthly\\n'\n",
      " 'invoice with the additional costs of CHF 2.90 minus the amount to be '\n",
      " 'refunded.\\n'\n",
      " 'Do I have to pay the invoice in full before boarding my flight? No, you can '\n",
      " 'board your flight regardless of whether you\\n'\n",
      " 'have paid your POWERPAY invoice or not.\\n'\n",
      " 'Do you have any queries about your invoice? If you have any queries about '\n",
      " 'invoices, please contact POWERPAY’s\\n'\n",
      " 'customer service.\\n'\n",
      " 'E-mail: info@powerpay.ch\\n'\n",
      " 'Hotline: +41 58 806 06 22\\n'\n",
      " 'Customer service is available Mondays to Fridays from 8:00 to 17:00 h.\\n'\n",
      " 'Can I give my business address for payments? Purchases on account can only '\n",
      " 'be made on submission of your private\\n'\n",
      " 'address.')\n"
     ]
    }
   ],
   "source": [
    "pprint(lookup_swiss_airline_policy.invoke(\"can I cancel my ticket?\"))"
   ]
  },
  {
   "cell_type": "code",
   "execution_count": null,
   "id": "e3600c1f",
   "metadata": {},
   "outputs": [],
   "source": []
  }
 ],
 "metadata": {
  "kernelspec": {
   "display_name": "CwS",
   "language": "python",
   "name": "python3"
  },
  "language_info": {
   "codemirror_mode": {
    "name": "ipython",
    "version": 3
   },
   "file_extension": ".py",
   "mimetype": "text/x-python",
   "name": "python",
   "nbconvert_exporter": "python",
   "pygments_lexer": "ipython3",
   "version": "3.12.9"
  }
 },
 "nbformat": 4,
 "nbformat_minor": 5
}
